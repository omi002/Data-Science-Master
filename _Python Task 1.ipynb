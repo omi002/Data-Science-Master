{
 "cells": [
  {
   "cell_type": "markdown",
   "id": "f32ccdb8-a855-48d0-896f-3db9d6fc9193",
   "metadata": {},
   "source": [
    "# Create a function which will take a list as an argument and return the product of all the numbers after creating a flat list.Use the below-given list as an argument for your function.\n",
    "list1 = [1,2,3,4, [44,55,66, True], False, (34,56,78,89,34), {1,2,3,3,2,1}, {1:34, \"key2\": [55, 67, 78, 89], 4: (45,\n",
    "22, 61, 34)}, [56, 'data science'], 'Machine Learning']\n",
    "Note: you must extract numeric keys and values of the dictionary also."
   ]
  },
  {
   "cell_type": "code",
   "execution_count": null,
   "id": "05aea2e1-7188-4545-a656-5a4f17b0fb02",
   "metadata": {},
   "outputs": [],
   "source": []
  },
  {
   "cell_type": "code",
   "execution_count": 2,
   "id": "f8cd66c5-ffc2-479c-8347-9786aa1ee1a2",
   "metadata": {},
   "outputs": [
    {
     "name": "stdout",
     "output_type": "stream",
     "text": [
      "flatter list is  [1, 2, 3, 4, 44, 55, 66, True, False, 34, 56, 78, 89, 34, 1, 2, 3, 1, 34, 'key2', 55, 67, 78, 89, 4, 45, 22, 61, 34, 56, 'data science', 'machine learning']\n"
     ]
    },
    {
     "data": {
      "text/plain": [
       "('product of all number in list is ', 4134711838987085478833841242112000)"
      ]
     },
     "execution_count": 2,
     "metadata": {},
     "output_type": "execute_result"
    }
   ],
   "source": [
    "list1 =[1,2,3,4,[44,55,66,True],False,(34,56,78,89,34),{1,2,3,3,2,1},{1:34,\"key2\":[55,67,78,89],4:(45,22,61,34)},[56,'data science'],'machine learning']\n",
    "def singlelist(list1):\n",
    "    a = []\n",
    "    for i in list1:\n",
    "        if type(i) == list or type(i)== tuple or type(i) == set :\n",
    "            for j in i:\n",
    "                a.append(j)\n",
    "        elif type(i) == dict:\n",
    "            for j in i:\n",
    "                a.append(j)\n",
    "                if type(i[j]) == list or type(i[j])== tuple or type(i[j]) == set :\n",
    "                    for k in i[j]:\n",
    "                        a.append(k)\n",
    "                else:\n",
    "                    a.append(i[j])\n",
    "        else:\n",
    "            a.append(i)\n",
    "    c = 1\n",
    "    for i in  a :\n",
    "        if type(i) == int or type(i) == float:\n",
    "            c = c*i\n",
    "    print(\"flatter list is \",a)\n",
    "    return \"product of all number in list is \",c\n",
    "singlelist(list1)"
   ]
  },
  {
   "cell_type": "code",
   "execution_count": null,
   "id": "5ee47d7a-157d-4e15-bd67-21761811d7a1",
   "metadata": {},
   "outputs": [],
   "source": []
  }
 ],
 "metadata": {
  "kernelspec": {
   "display_name": "Python 3 (ipykernel)",
   "language": "python",
   "name": "python3"
  },
  "language_info": {
   "codemirror_mode": {
    "name": "ipython",
    "version": 3
   },
   "file_extension": ".py",
   "mimetype": "text/x-python",
   "name": "python",
   "nbconvert_exporter": "python",
   "pygments_lexer": "ipython3",
   "version": "3.10.8"
  }
 },
 "nbformat": 4,
 "nbformat_minor": 5
}
