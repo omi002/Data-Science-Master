{
 "cells": [
  {
   "cell_type": "markdown",
   "id": "93f00bb6-6e80-4828-8da3-8fd330dbea54",
   "metadata": {},
   "source": [
    "# You are writing code for a company. The requirement of the company is that you create a python\n",
    "function that will check whether the password entered by the user is correct or not. The function should\n",
    "take the password as input and return the string “Valid Password” if the entered password follows the\n",
    "below-given password guidelines else it should return “Invalid Password”.\n",
    "Note: 1. The Password should contain at least two uppercase letters and at least two lowercase letters.\n",
    "2. The Password should contain at least a number and three special characters.\n",
    "3. The length of the password should be 10 characters long."
   ]
  },
  {
   "cell_type": "code",
   "execution_count": 2,
   "id": "fc69026f-1398-4fd6-8aa9-0ed2f60efe8a",
   "metadata": {},
   "outputs": [],
   "source": [
    "def validate(s):\n",
    "    global Cap, Low, Num, Spec\n",
    "    ''' Checks whether the string s fits the \n",
    "        criteria for a valid password.\n",
    "    ''' \n",
    "    capital =['A','B','C','D','E','F','G','H','I','J','K','L','M','N','O','P','Q','R','S','T','U','V','W','X','Y','Z']\n",
    "    lowercase = ['a','b','c','d','e','f','g','h','i','j','k','l','m','n','o','p','q','r','s','t','u','v','w','x','y','z']\n",
    "    number = ['0','1','2','3','4','5','6','7','8','9']\n",
    "    special =['@','$','#']\n",
    "\n",
    "    for i in s:\n",
    "        if i in capital:\n",
    "            Cap = True\n",
    "        else: \n",
    "            Cap = False\n",
    "        if s in lowercase:\n",
    "            Low = True\n",
    "        else:\n",
    "            Low = False\n",
    "        if s in number:\n",
    "            Num = True\n",
    "        else:\n",
    "            Num = False\n",
    "        if s in special:\n",
    "            Spec = True\n",
    "        else:\n",
    "            Spec = False\n",
    "\n",
    "    if Cap and Low and Num and Spec is True:\n",
    "        return ('valid')\n",
    "    else:\n",
    "        return ('not valid')\n",
    "\n",
    "\n",
    "\n",
    "def main():\n",
    "    ''' The program driver. '''\n",
    "\n",
    "    # set cmd to anything except quit()\n",
    "    cmd = ''\n",
    "\n",
    "    # process the user commands\n",
    "    while  cmd != 'quit':\n",
    "        cmd = input('> ')\n",
    "        password = cmd \n",
    "        validate(password)"
   ]
  },
  {
   "cell_type": "markdown",
   "id": "a3b25f0a-b48c-476a-b9ba-7b4fa28cbd44",
   "metadata": {},
   "source": [
    "# Solve the below-given questions using at least one of the following:\n",
    "1. Lambda functioJ\n",
    "2. Filter functioJ\n",
    "3. Zap functioJ\n",
    "4. List ComprehensioI"
   ]
  },
  {
   "cell_type": "code",
   "execution_count": 4,
   "id": "c131784f-c8b2-4f54-920b-298955dcbff7",
   "metadata": {},
   "outputs": [
    {
     "name": "stdout",
     "output_type": "stream",
     "text": [
      "Words are:\n",
      "soup\n",
      "dog\n",
      "salad\n",
      "cat\n",
      "great\n"
     ]
    }
   ],
   "source": [
    "# Check if the string starts with a particular letterY\n",
    "seq = ['soup','dog','salad','cat','great']\n",
    "\n",
    "sseq = \" \".join(seq)\n",
    "\n",
    "filtered = lambda x: True if sseq.startswith('s') else False\n",
    "\n",
    "filtered_list = filter(filtered, seq)\n",
    "\n",
    "print('Words are:')\n",
    "for a in filtered_list:\n",
    "    print(a)"
   ]
  },
  {
   "cell_type": "code",
   "execution_count": 5,
   "id": "e63ebd3b-a026-482b-b61e-957bd36e8086",
   "metadata": {},
   "outputs": [
    {
     "name": "stdout",
     "output_type": "stream",
     "text": [
      "[3, 16, 9]\n"
     ]
    }
   ],
   "source": [
    "# Check if the string is numeric\n",
    "List = [[2,3,4],[1, 4, 16, 64],[3, 6, 9, 12]]\n",
    "sortList = lambda x: (sorted(i) for i in x)\n",
    "secondLargest = lambda x, f : [y[len(y)-2] for y in f(x)]\n",
    "res = secondLargest(List, sortList)\n",
    " \n",
    "print(res)"
   ]
  },
  {
   "cell_type": "code",
   "execution_count": 7,
   "id": "0a8f9ddd-21e7-4737-9ced-7bb4341647d9",
   "metadata": {},
   "outputs": [
    {
     "name": "stdout",
     "output_type": "stream",
     "text": [
      "\n",
      "Sorting the List of Tuples:\n",
      "[('orange', 80), ('mango', 99), ('grapes', 1000)]\n"
     ]
    }
   ],
   "source": [
    "# Sort a list of tuples having fruit names and their quantity. [(\"mango\",99),(\"orange\",80), (\"grapes\", 1000)-\n",
    "test2= [(\"mango\",99),(\"orange\",80), (\"grapes\", 1000)]\n",
    "test2.sort(key = lambda x: x[1])\n",
    "print(\"\\nSorting the List of Tuples:\")\n",
    "print(test2)"
   ]
  },
  {
   "cell_type": "code",
   "execution_count": 9,
   "id": "104d1670-6173-4d7b-9970-d710c4a5cf4e",
   "metadata": {},
   "outputs": [
    {
     "data": {
      "text/plain": [
       "[1, 4, 9, 16, 25, 36, 49, 64, 81, 100]"
      ]
     },
     "execution_count": 9,
     "metadata": {},
     "output_type": "execute_result"
    }
   ],
   "source": [
    "# Find the squares of numbers from 1 to 10.\n",
    "l= [1,2,3,4,5,6,7,8,9,10]\n",
    "list(map(lambda x : x**2 , l )) "
   ]
  },
  {
   "cell_type": "code",
   "execution_count": 10,
   "id": "6b72c8bd-0e94-42cf-97c5-c45823fd8f73",
   "metadata": {},
   "outputs": [
    {
     "data": {
      "text/plain": [
       "[1, 8, 27, 64, 125, 216, 343, 512, 729, 1000]"
      ]
     },
     "execution_count": 10,
     "metadata": {},
     "output_type": "execute_result"
    }
   ],
   "source": [
    "# Find the cube root of numbers from 1 to 10.\n",
    "l= [1,2,3,4,5,6,7,8,9,10]\n",
    "list(map(lambda x : x*x*x , l )) "
   ]
  },
  {
   "cell_type": "code",
   "execution_count": 13,
   "id": "ea95e48d-43f3-420a-9ba5-cf2c6b28c3d0",
   "metadata": {},
   "outputs": [
    {
     "data": {
      "text/plain": [
       "[False, True, False, True, False, True, False, True, False, True]"
      ]
     },
     "execution_count": 13,
     "metadata": {},
     "output_type": "execute_result"
    }
   ],
   "source": [
    "# Check if a given number is even.\n",
    "l= [1,2,3,4,5,6,7,8,9,10]\n",
    "list(map(lambda x : x%2==0,l))"
   ]
  },
  {
   "cell_type": "code",
   "execution_count": 14,
   "id": "823406c9-6f3e-4e43-8d45-0ed752659a96",
   "metadata": {},
   "outputs": [
    {
     "data": {
      "text/plain": [
       "[2, 4, 6, 8, 10]"
      ]
     },
     "execution_count": 14,
     "metadata": {},
     "output_type": "execute_result"
    }
   ],
   "source": [
    "l= [1,2,3,4,5,6,7,8,9,10]\n",
    "list(filter(lambda x : x%2==0,l))"
   ]
  },
  {
   "cell_type": "code",
   "execution_count": 15,
   "id": "dd7d4882-d56c-40eb-99bc-9a3d49a8ae4e",
   "metadata": {},
   "outputs": [
    {
     "data": {
      "text/plain": [
       "[3, 6, 9]"
      ]
     },
     "execution_count": 15,
     "metadata": {},
     "output_type": "execute_result"
    }
   ],
   "source": [
    "# Filter odd numbers from the given list.\n",
    "l= [1,2,3,4,5,6,7,8,9,10]\n",
    "list(filter(lambda x : x%3==0,l))"
   ]
  },
  {
   "cell_type": "code",
   "execution_count": 17,
   "id": "46a3f5d1-b0e9-4d97-89c4-782446b3055f",
   "metadata": {},
   "outputs": [
    {
     "data": {
      "text/plain": [
       "[-1, -2, -3, -4, -5]"
      ]
     },
     "execution_count": 17,
     "metadata": {},
     "output_type": "execute_result"
    }
   ],
   "source": [
    "# Sort a list of integers into positive and negative integers lists.\n",
    "l1 = [1,2,3,4,5,6,-1,-2,-3,-4,-5,0]\n",
    "list(filter(lambda x: x<0,l1))"
   ]
  },
  {
   "cell_type": "code",
   "execution_count": 18,
   "id": "21e9f8bf-1517-4665-8e89-b52b6f268229",
   "metadata": {},
   "outputs": [
    {
     "data": {
      "text/plain": [
       "[1, 2, 3, 4, 5, 6, 0]"
      ]
     },
     "execution_count": 18,
     "metadata": {},
     "output_type": "execute_result"
    }
   ],
   "source": [
    "list(filter(lambda x: x>=0 , l1))"
   ]
  },
  {
   "cell_type": "code",
   "execution_count": null,
   "id": "67765e31-0d65-4e8e-a0b2-72dd316ae71e",
   "metadata": {},
   "outputs": [],
   "source": []
  }
 ],
 "metadata": {
  "kernelspec": {
   "display_name": "Python 3 (ipykernel)",
   "language": "python",
   "name": "python3"
  },
  "language_info": {
   "codemirror_mode": {
    "name": "ipython",
    "version": 3
   },
   "file_extension": ".py",
   "mimetype": "text/x-python",
   "name": "python",
   "nbconvert_exporter": "python",
   "pygments_lexer": "ipython3",
   "version": "3.10.8"
  }
 },
 "nbformat": 4,
 "nbformat_minor": 5
}
