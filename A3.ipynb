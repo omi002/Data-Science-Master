{
 "cells": [
  {
   "cell_type": "markdown",
   "id": "a292497c-84ac-42af-ad73-2a16a30e062a",
   "metadata": {},
   "source": [
    "# What are the characteristics of the tuples? Is tuple immutable?\n",
    "  Tuples are immutable lists and cannot be changed in any way once it is created. Some of the characteristics features of Tuples are: Tuples are defined in the same way as lists. They are enclosed within parenthesis and not within square braces."
   ]
  },
  {
   "cell_type": "markdown",
   "id": "992869a7-cf29-495d-99fb-46bda870c5c6",
   "metadata": {},
   "source": [
    "# What are the two tuple methods in python? Give an example of each method. Give a reason why tuples have only two in-built methods as compared to Lists.\n",
    "  Python Tuples is an immutable collection of that are more like lists. Python Provides a couple of methods to work with tuples. In this article, we will discuss these two methods in detail with the help of some examples."
   ]
  },
  {
   "cell_type": "code",
   "execution_count": 4,
   "id": "5372b0d7-723b-4456-a72e-cdb20b079e81",
   "metadata": {},
   "outputs": [],
   "source": [
    "# Examples 1 for Count() & index() Method\n",
    "t1=(1,2,8,\"jay\",\"maa\")\n",
    "t2=(7,5,9,10,\"apple\",\"orenge\")"
   ]
  },
  {
   "cell_type": "code",
   "execution_count": 9,
   "id": "b5156197-5a1e-472b-9cf9-05d1e8921822",
   "metadata": {},
   "outputs": [
    {
     "data": {
      "text/plain": [
       "1"
      ]
     },
     "execution_count": 9,
     "metadata": {},
     "output_type": "execute_result"
    }
   ],
   "source": [
    "t1.count(8)"
   ]
  },
  {
   "cell_type": "code",
   "execution_count": 12,
   "id": "01df852d-002f-4d98-887b-81794308f2f9",
   "metadata": {},
   "outputs": [
    {
     "data": {
      "text/plain": [
       "4"
      ]
     },
     "execution_count": 12,
     "metadata": {},
     "output_type": "execute_result"
    }
   ],
   "source": [
    "t2.index('apple')"
   ]
  },
  {
   "cell_type": "markdown",
   "id": "e8d16cc9-371a-4aef-8ee5-48b22525c931",
   "metadata": {},
   "source": [
    "# Which collection datatypes in python do not allow duplicate items? Write a code using a set to removeduplicates from the given list.List = [1, 1, 1, 2, 1, 3, 1, 4, 2, 1, 2, 2, 2, 3, 2, 4, 3, 1, 3, 2, 3, 3, 3, 4, 4, 1, 4, 2, 4, 3, 4, 4]\n",
    " Set is a collection which is unordered, unchangeable*, and unindexed. No duplicate members."
   ]
  },
  {
   "cell_type": "code",
   "execution_count": 13,
   "id": "b2309feb-d208-4aa2-a3e2-681ff14d7356",
   "metadata": {},
   "outputs": [],
   "source": [
    "List = [1, 1, 1, 2, 1, 3, 1, 4, 2, 1, 2, 2, 2, 3, 2, 4, 3, 1, 3, 2, 3, 3, 3, 4, 4, 1, 4, 2, 4, 3, 4, 4]"
   ]
  },
  {
   "cell_type": "code",
   "execution_count": 14,
   "id": "fdd0ce3b-0c1f-4aad-b037-035cffb5bdd7",
   "metadata": {},
   "outputs": [],
   "source": [
    "s1=set(List)"
   ]
  },
  {
   "cell_type": "code",
   "execution_count": 15,
   "id": "207042e9-bc71-4b9d-b326-470b5b2ef401",
   "metadata": {},
   "outputs": [
    {
     "data": {
      "text/plain": [
       "{1, 2, 3, 4}"
      ]
     },
     "execution_count": 15,
     "metadata": {},
     "output_type": "execute_result"
    }
   ],
   "source": [
    "s1"
   ]
  },
  {
   "cell_type": "markdown",
   "id": "85007684-1f61-4334-a3f4-e9bc8f6a6f0e",
   "metadata": {},
   "source": [
    "# Explain the difference between the union() and update() methods for a set. Give an example of each method.\n",
    " The union() method returns a set that contains all items from the original set, and all items from the specified set(s). The update() method updates the current set, by adding items from another set (or any other iterable)."
   ]
  },
  {
   "cell_type": "code",
   "execution_count": 16,
   "id": "1858d867-4d6d-49b1-9f99-09d1d48c1c7e",
   "metadata": {},
   "outputs": [
    {
     "name": "stdout",
     "output_type": "stream",
     "text": [
      "{'d', 'c', 'f', 'b', 'e', 'a'}\n"
     ]
    }
   ],
   "source": [
    "x = {\"a\", \"b\", \"c\"}\n",
    "y = {\"f\", \"d\", \"a\"}\n",
    "z = {\"c\", \"d\", \"e\"}\n",
    "\n",
    "result = x.union(y, z)\n",
    "\n",
    "print(result)"
   ]
  },
  {
   "cell_type": "code",
   "execution_count": 17,
   "id": "2592aa28-375b-4f39-a397-49e1fe4a6909",
   "metadata": {},
   "outputs": [
    {
     "name": "stdout",
     "output_type": "stream",
     "text": [
      "{'apple', 'banana', 'cherry', 'google', 'microsoft'}\n"
     ]
    }
   ],
   "source": [
    "x = {\"apple\", \"banana\", \"cherry\"}\n",
    "y = {\"google\", \"microsoft\", \"apple\"}\n",
    "\n",
    "x.update(y)\n",
    "\n",
    "print(x)"
   ]
  },
  {
   "cell_type": "markdown",
   "id": "6105c968-391c-4cb2-992f-1b935d019728",
   "metadata": {},
   "source": [
    "# What is a dictionary? Give an example. Also, state whether a dictionary is ordered or unordered.\n",
    "  Dictionary is termed as an unordered collection of objects because it doesn’t remember the order of positioning of its elements but just the mapping of its keys and values"
   ]
  },
  {
   "cell_type": "code",
   "execution_count": 19,
   "id": "93e6d778-baf0-4899-97ef-a0730db7c55b",
   "metadata": {},
   "outputs": [],
   "source": [
    "d1={\"name\":\"rahul\",\"age\":15,\"email\":\"rahul@gmail.com\",\"mobile\":123456}"
   ]
  },
  {
   "cell_type": "markdown",
   "id": "1a05ab21-3808-4480-b7a8-43522176b6cc",
   "metadata": {},
   "source": [
    "# Can we create a nested dictionary? If so, please give an example by creating a simple one-level nested dictionary.\n",
    "  Nesting Dictionary means putting a dictionary inside another dictionary."
   ]
  },
  {
   "cell_type": "code",
   "execution_count": 20,
   "id": "59559f1d-4735-47fb-9f69-56a5561cc64c",
   "metadata": {},
   "outputs": [],
   "source": [
    "dict1 = {\"teacher\": {\"class1\":\"jay\",\"class2\":\"mehta\",\"class3\":\"gupta\"} , \"moniter\": {\"c1\":\"rahul\",\"c2\":\"deepak\",\"c3\":\"prakash\"}}"
   ]
  },
  {
   "cell_type": "markdown",
   "id": "d850c1ef-54f9-4b6a-ae84-0b78262dd27e",
   "metadata": {},
   "source": [
    "# Using setdefault() method, create key named topics in the given dictionary and also add the value of the key as this list ['Python', 'Machine Learning’, 'Deep Learning'].dict1 = {'language' : 'Python', 'course': 'Data Science Masters'}\n",
    "  The setdefault () method returns the value of a key (if the key is in dictionary). If not, it inserts key with a value to the dictionary."
   ]
  },
  {
   "cell_type": "code",
   "execution_count": 33,
   "id": "d5251536-cdaa-49e9-a9a7-9b6a68a1ad9b",
   "metadata": {},
   "outputs": [
    {
     "ename": "SyntaxError",
     "evalue": "invalid syntax (57503349.py, line 2)",
     "output_type": "error",
     "traceback": [
      "\u001b[0;36m  Cell \u001b[0;32mIn[33], line 2\u001b[0;36m\u001b[0m\n\u001b[0;31m    d1.setdefault(\"coures_name\": \"Python\")\u001b[0m\n\u001b[0m                               ^\u001b[0m\n\u001b[0;31mSyntaxError\u001b[0m\u001b[0;31m:\u001b[0m invalid syntax\n"
     ]
    }
   ],
   "source": [
    "d1={'a': 97, 'b': 98, 'c': 99, 'd': 100}\n",
    "d1.setdefault(\"coures_name\": \"Python\")"
   ]
  },
  {
   "cell_type": "code",
   "execution_count": 34,
   "id": "41a831fa-0875-4ad2-968d-4fbe34cb6bcc",
   "metadata": {},
   "outputs": [
    {
     "data": {
      "text/plain": [
       "{' ': 'rahul', 'Python': None}"
      ]
     },
     "execution_count": 34,
     "metadata": {},
     "output_type": "execute_result"
    }
   ],
   "source": [
    "d1"
   ]
  },
  {
   "cell_type": "markdown",
   "id": "76eba628-c05c-44c1-a811-0dbc15a45f5c",
   "metadata": {},
   "source": [
    "# What are the three view objects in dictionaries? Use the three in-built methods in python to display these three view objects for the given dictionary.dict1 = {'Sport': 'Cricket' , 'Teams': ['India', 'Australia', 'England', 'South Africa', 'Sri Lanka', 'New Zealand']}"
   ]
  },
  {
   "cell_type": "code",
   "execution_count": null,
   "id": "e39dae91-da2f-4ef0-8e8d-2888baa3d827",
   "metadata": {},
   "outputs": [],
   "source": []
  }
 ],
 "metadata": {
  "kernelspec": {
   "display_name": "Python 3 (ipykernel)",
   "language": "python",
   "name": "python3"
  },
  "language_info": {
   "codemirror_mode": {
    "name": "ipython",
    "version": 3
   },
   "file_extension": ".py",
   "mimetype": "text/x-python",
   "name": "python",
   "nbconvert_exporter": "python",
   "pygments_lexer": "ipython3",
   "version": "3.10.8"
  }
 },
 "nbformat": 4,
 "nbformat_minor": 5
}
