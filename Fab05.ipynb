{
 "cells": [
  {
   "cell_type": "markdown",
   "id": "a8b1ecfc-d7d5-4442-b8b2-b6ede3bd2de7",
   "metadata": {},
   "source": [
    "# Explain Class and Object with respect to Object-Oriented Programming. Give a suitable example.\n",
    "   Class and objects in Python Consider a class in OOPS as a user-defined prototype or blueprint of program attributes, instance methods and its set of instructions. It performs a way of binding a collection of objects to itself to lead large programs in a more understandable and manageable way."
   ]
  },
  {
   "cell_type": "code",
   "execution_count": 1,
   "id": "a15cf1d7-d29c-4605-afc6-8593f7605e27",
   "metadata": {},
   "outputs": [
    {
     "name": "stdout",
     "output_type": "stream",
     "text": [
      "No: 1 Fruite Name: Apple ,Fruite color: Red\n",
      "No: 2 Fruite Name: lemon ,Fruite color: Yellow\n",
      "Total Number of Fruites 2\n"
     ]
    }
   ],
   "source": [
    "class fruits:  \n",
    "    total=0  \n",
    "    def __init__(self,fno,fname,fcolor):  #Constructor declared with number of arguments\n",
    "        self.fno=fno  \n",
    "        self.fname=fname  \n",
    "        self.fcolor=fcolor  \n",
    "        fruits.total+=1  \n",
    "    def displaytotal(self):  \n",
    "        print(\"No:\",self.fno,\"Fruite Name:\",self.fname,\",Fruite color:\",self.fcolor)  \n",
    "    def displayfruit(self):  \n",
    "        print(\"No:\",self.fno,\"Fruite Name:\",self.fname,\",Fruite color:\",self.fcolor)  \n",
    "f1=fruits(1,\"Apple\",\"Red\") \n",
    "f2=fruits(2,\"lemon\",\"Yellow\")  \n",
    "f1.displaytotal()    \n",
    "f2.displayfruit()    \n",
    "print(\"Total Number of Fruites %d\" % fruits.total) "
   ]
  },
  {
   "cell_type": "markdown",
   "id": "c566d2b6-963b-4d98-bf79-f6d5fd5cee95",
   "metadata": {},
   "source": [
    "# Name the four pillars of OOPs.\n",
    "  The four pillars of object-oriented programming are:\n",
    "\n",
    "Abstraction,\n",
    "Encapsulation,\n",
    "Inheritance,\n",
    "Polymorphism"
   ]
  },
  {
   "cell_type": "markdown",
   "id": "e82a16e0-e1cd-4d13-9769-6fa9a5246772",
   "metadata": {},
   "source": [
    "# Explain why the __init__() function is used. Give a suitable example.\n",
    "  To understand the meaning of classes we have to understand the built-in __init__() function.\n",
    "\n",
    "All classes have a function called __init__(), which is always executed when the class is being initiated."
   ]
  },
  {
   "cell_type": "code",
   "execution_count": 2,
   "id": "8b8784ff-2d0f-4343-b0d6-c8ef4a1ebf87",
   "metadata": {},
   "outputs": [],
   "source": [
    "class person:\n",
    "    def __init__(self,name,age):\n",
    "        self.name=name\n",
    "        self.age=age\n",
    "        \n",
    "    def return_detials(self):  \n",
    "        return self.name,self.age"
   ]
  },
  {
   "cell_type": "code",
   "execution_count": 7,
   "id": "258afc02-201b-4ef9-a88c-30c91aa60053",
   "metadata": {},
   "outputs": [],
   "source": [
    "om=person(\"om prakash\",28)"
   ]
  },
  {
   "cell_type": "code",
   "execution_count": 11,
   "id": "9d1f7c04-e154-4364-aedf-d2b420001ef6",
   "metadata": {},
   "outputs": [
    {
     "data": {
      "text/plain": [
       "'om prakash'"
      ]
     },
     "execution_count": 11,
     "metadata": {},
     "output_type": "execute_result"
    }
   ],
   "source": [
    "om.name"
   ]
  },
  {
   "cell_type": "markdown",
   "id": "6031fded-a809-4af5-bc0e-71a076bf2b18",
   "metadata": {},
   "source": [
    "# Why self is used in OOPs?\n",
    "  \" self \" is the instance object automatically passed to the class instance's method when called, to identify the instance that called it. \" self \" is used to access other attributes or methods of the object from inside the method. (methods are basically just functions that belong to a class)"
   ]
  },
  {
   "cell_type": "code",
   "execution_count": 14,
   "id": "716b676b-9da5-45df-bed9-2d802816cddd",
   "metadata": {},
   "outputs": [],
   "source": [
    "# What is inheritance? Give an example for each type of inheritance.\n"
   ]
  },
  {
   "cell_type": "code",
   "execution_count": 15,
   "id": "767b1ace-a8a0-47ff-97df-798fbebd7036",
   "metadata": {},
   "outputs": [
    {
     "name": "stdout",
     "output_type": "stream",
     "text": [
      "I can eat\n",
      "I like to eat bones\n"
     ]
    }
   ],
   "source": [
    "class Animal:\n",
    "\n",
    "    name = \"\"\n",
    "    \n",
    "    def eat(self):\n",
    "        print(\"I can eat\")\n",
    "\n",
    "# inherit from Animal\n",
    "class Dog(Animal):\n",
    "    \n",
    "    # override eat() method\n",
    "    def eat(self):\n",
    "        \n",
    "        # call the eat() method of the superclass using super()\n",
    "        super().eat()\n",
    "        \n",
    "        print(\"I like to eat bones\")\n",
    "\n",
    "# create an object of the subclass\n",
    "labrador = Dog()\n",
    "\n",
    "labrador.eat()"
   ]
  },
  {
   "cell_type": "code",
   "execution_count": null,
   "id": "4291136b-2a32-466d-b328-c996784700dd",
   "metadata": {},
   "outputs": [],
   "source": []
  }
 ],
 "metadata": {
  "kernelspec": {
   "display_name": "Python 3 (ipykernel)",
   "language": "python",
   "name": "python3"
  },
  "language_info": {
   "codemirror_mode": {
    "name": "ipython",
    "version": 3
   },
   "file_extension": ".py",
   "mimetype": "text/x-python",
   "name": "python",
   "nbconvert_exporter": "python",
   "pygments_lexer": "ipython3",
   "version": "3.10.8"
  }
 },
 "nbformat": 4,
 "nbformat_minor": 5
}
