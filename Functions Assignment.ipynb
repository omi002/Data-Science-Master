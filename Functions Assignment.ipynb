{
 "cells": [
  {
   "cell_type": "markdown",
   "id": "e5a6312d-9d6b-47dc-9e81-6ff6382bb50a",
   "metadata": {},
   "source": [
    "# Which keyword is used to create a function? Create a function to return a list of odd numbers in the range of 1 to 25.\n",
    " We can create a  Python function using the def keyword."
   ]
  },
  {
   "cell_type": "code",
   "execution_count": 33,
   "id": "769a1ff1-c77a-4fcd-8664-6a658314e3be",
   "metadata": {},
   "outputs": [],
   "source": [
    "def odd_number(a):\n",
    "    n=[]\n",
    "    for i in a:\n",
    "        if i % 2 != 0:\n",
    "            n.append(i)\n",
    "    return n  "
   ]
  },
  {
   "cell_type": "code",
   "execution_count": 34,
   "id": "a8657fd9-9efb-4707-8245-d3cdbb4ce82b",
   "metadata": {},
   "outputs": [],
   "source": [
    "l=[1,2,3,4,5,6,7,8,9,10,11,12,13,14,15,16,17,18,19,20,21,22,23,24,25]"
   ]
  },
  {
   "cell_type": "code",
   "execution_count": 35,
   "id": "6d494f13-2861-436d-98f1-873c285f39c4",
   "metadata": {},
   "outputs": [
    {
     "data": {
      "text/plain": [
       "[1, 3, 5, 7, 9, 11, 13, 15, 17, 19, 21, 23, 25]"
      ]
     },
     "execution_count": 35,
     "metadata": {},
     "output_type": "execute_result"
    }
   ],
   "source": [
    "odd_number(l)"
   ]
  },
  {
   "cell_type": "markdown",
   "id": "cb8782da-629e-4733-b882-5d299931b07f",
   "metadata": {},
   "source": [
    "# Why *args and **kwargs is used in some functions? Create a function each for *args and **kwargs to demonstrate their use.\n",
    "   The special syntax *args in function definitions in python is used to pass a variable number of arguments to a function. It is used to pass a non-key worded, variable-length argument list.\n",
    "   The special syntax **kwargs in function definitions in python is used to pass a keyworded, variable-length argument list. We use the name kwargs with the double star. The reason is that the double star allows us to pass through keyword arguments (and any number of them)."
   ]
  },
  {
   "cell_type": "code",
   "execution_count": 15,
   "id": "a756ec8b-40be-4e19-8837-9c1fdd48254a",
   "metadata": {},
   "outputs": [],
   "source": [
    "def new_list(*a):\n",
    "    t = []\n",
    "    for i in a:\n",
    "        if type(i) == list :\n",
    "            t.append(i)\n",
    "            \n",
    "    return t"
   ]
  },
  {
   "cell_type": "code",
   "execution_count": 16,
   "id": "20e26de5-9ab2-41ce-9631-c58f41764147",
   "metadata": {},
   "outputs": [],
   "source": [
    "t1=[1,2,3,(8,9,\"omi\",\"jay\"),[1,8,9,12]]"
   ]
  },
  {
   "cell_type": "code",
   "execution_count": 17,
   "id": "0c1ae26e-11f5-4c55-aeaa-74ead786e24c",
   "metadata": {},
   "outputs": [
    {
     "data": {
      "text/plain": [
       "[[1, 2, 3, (8, 9, 'omi', 'jay'), [1, 8, 9, 12]]]"
      ]
     },
     "execution_count": 17,
     "metadata": {},
     "output_type": "execute_result"
    }
   ],
   "source": [
    "new_list(t1)"
   ]
  },
  {
   "cell_type": "code",
   "execution_count": 18,
   "id": "ce4c98e5-838d-4204-8975-5d5ccbc18c32",
   "metadata": {},
   "outputs": [],
   "source": [
    "def new(**a):\n",
    "    return a"
   ]
  },
  {
   "cell_type": "code",
   "execution_count": 24,
   "id": "971a41a8-b56e-47bd-b93c-36e97c351db8",
   "metadata": {},
   "outputs": [
    {
     "data": {
      "text/plain": [
       "{'a': 1, 'b': 2, 'c': 'name'}"
      ]
     },
     "execution_count": 24,
     "metadata": {},
     "output_type": "execute_result"
    }
   ],
   "source": [
    "new(a=1,b=2,c=\"name\")"
   ]
  },
  {
   "cell_type": "code",
   "execution_count": 28,
   "id": "3fe55423-6cd6-4607-b0af-893b4c48de57",
   "metadata": {},
   "outputs": [],
   "source": [
    "def new1(**kwargs):\n",
    "    for i in kwargs.keys():\n",
    "        if type(kwargs[i] ) == list :\n",
    "            return i , kwargs[i]"
   ]
  },
  {
   "cell_type": "code",
   "execution_count": 29,
   "id": "6e159587-6cba-4a44-b7fe-5ab66bda5b0f",
   "metadata": {},
   "outputs": [
    {
     "data": {
      "text/plain": [
       "('c', [1, 2, 3, 4])"
      ]
     },
     "execution_count": 29,
     "metadata": {},
     "output_type": "execute_result"
    }
   ],
   "source": [
    "new1(a = 34 , b = 23 , c = [1,2,3,4] , d =(\"jay\",\"omi\"))"
   ]
  },
  {
   "cell_type": "markdown",
   "id": "3fef2ecd-a25d-44c8-a79c-630b14f3133b",
   "metadata": {},
   "source": [
    "# What is an iterator in python? Name the method used to initialise the iterator object and the method used for iteration. Use these methods to print the first five elements of the given list [2, 4, 6, 8, 10, 12, 14, 16,\n",
    "18, 20].\n",
    " Iterator in Python is an object that is used to iterate over iterable objects like lists, tuples, dicts, and sets. The iterator object is initialized using the iter() method. The iter() method is called for the initialization of an iterator. This returns an iterator object."
   ]
  },
  {
   "cell_type": "code",
   "execution_count": null,
   "id": "f5c35e52-1cde-470f-809a-e7819f847fb2",
   "metadata": {},
   "outputs": [],
   "source": []
  },
  {
   "cell_type": "code",
   "execution_count": null,
   "id": "a1c6e72d-0d0b-4348-974f-34941597a226",
   "metadata": {},
   "outputs": [],
   "source": []
  },
  {
   "cell_type": "markdown",
   "id": "acc5dec5-1db0-41ab-9c24-538f4bcc1ed3",
   "metadata": {},
   "source": [
    "# What is a generator function in python? Why yield keyword is used? Give an example of a generator function.\n",
    "  To create a generator function in Python, yield keyword is used instead of return statement in normal function. Generator function contains one or more yield statement which returns an object (iterator) but does not start execution immediately."
   ]
  },
  {
   "cell_type": "code",
   "execution_count": 30,
   "id": "c0cd245a-565b-4fec-abb6-93c68d5c8078",
   "metadata": {},
   "outputs": [
    {
     "name": "stdout",
     "output_type": "stream",
     "text": [
      "The original list is : [1, 4, 5, 6, 7]\n",
      "The even numbers in list are :  4 6 "
     ]
    }
   ],
   "source": [
    "def print_even(test_list):\n",
    "    for i in test_list:\n",
    "        if i % 2 == 0:\n",
    "            yield i\n",
    " \n",
    "# initializing list\n",
    "test_list = [1, 4, 5, 6, 7]\n",
    " \n",
    "# printing initial list\n",
    "print(\"The original list is : \" + str(test_list))\n",
    " \n",
    "# printing even numbers\n",
    "print(\"The even numbers in list are : \", end=\" \")\n",
    "for j in print_even(test_list):\n",
    "    print(j, end=\" \")"
   ]
  },
  {
   "cell_type": "markdown",
   "id": "dc502da8-a88c-46ae-859c-80e5d355c133",
   "metadata": {},
   "source": [
    "# Create a generator function for prime numbers less than 1000. Use the next() method to print the first 20 prime numbers."
   ]
  },
  {
   "cell_type": "code",
   "execution_count": 38,
   "id": "dc33dc8e-4ea0-4fe4-bd97-6ca577ac17b4",
   "metadata": {},
   "outputs": [
    {
     "name": "stdin",
     "output_type": "stream",
     "text": [
      "Enter minimum value:  1\n",
      "Enter maximum value:  1000\n"
     ]
    },
    {
     "name": "stdout",
     "output_type": "stream",
     "text": [
      "Prime numbers from 1 to 1000 are:\n",
      "2 3 5 7 11 13 17 19 23 29 31 37 41 43 47 53 59 61 67 71 73 79 83 89 97 101 103 107 109 113 127 131 137 139 149 151 157 163 167 173 179 181 191 193 197 199 211 223 227 229 233 239 241 251 257 263 269 271 277 281 283 293 307 311 313 317 331 337 347 349 353 359 367 373 379 383 389 397 401 409 419 421 431 433 439 443 449 457 461 463 467 479 487 491 499 503 509 521 523 541 547 557 563 569 571 577 587 593 599 601 607 613 617 619 631 641 643 647 653 659 661 673 677 683 691 701 709 719 727 733 739 743 751 757 761 769 773 787 797 809 811 821 823 827 829 839 853 857 859 863 877 881 883 887 907 911 919 929 937 941 947 953 967 971 977 983 991 997 "
     ]
    }
   ],
   "source": [
    "def is_prime(n):\n",
    "    if n< 2:\n",
    "        return False\n",
    "    \n",
    "    for i in range(2,n):\n",
    "        if n%i == 0:\n",
    "            return False\n",
    "\n",
    "    return True\n",
    "\n",
    "\n",
    "# Reading interval from user\n",
    "min_value = int(input('Enter minimum value: '))\n",
    "max_value = int(input('Enter maximum value: '))\n",
    "\n",
    "# Looping & displaying if it is prime\n",
    "# Here min_vale & max_value are included\n",
    "print('Prime numbers from %d to %d are:' %(min_value, max_value))\n",
    "for i in range(min_value, max_value+1):\n",
    "    if is_prime(i):\n",
    "        print(i, end=' ')"
   ]
  },
  {
   "cell_type": "code",
   "execution_count": null,
   "id": "d30f3c3c-7477-4e80-a198-9aea71cc38cd",
   "metadata": {},
   "outputs": [],
   "source": []
  }
 ],
 "metadata": {
  "kernelspec": {
   "display_name": "Python 3 (ipykernel)",
   "language": "python",
   "name": "python3"
  },
  "language_info": {
   "codemirror_mode": {
    "name": "ipython",
    "version": 3
   },
   "file_extension": ".py",
   "mimetype": "text/x-python",
   "name": "python",
   "nbconvert_exporter": "python",
   "pygments_lexer": "ipython3",
   "version": "3.10.8"
  }
 },
 "nbformat": 4,
 "nbformat_minor": 5
}
