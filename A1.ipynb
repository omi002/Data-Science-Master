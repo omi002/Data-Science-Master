{
 "cells": [
  {
   "cell_type": "markdown",
   "id": "c8ea5556-1bd1-411b-9de5-087449cd6442",
   "metadata": {},
   "source": [
    "1. Who developed python programming language?\n",
    "  Ans- Guido van Rossum.\n",
    "2. Which type of programming does python support?\n",
    "  Ans- object-oriented programming.\n",
    "3. is python case sensitive when dealing with identifiers?\n",
    "  Ans- Yes.\n",
    "4. what is the correct extension of the python file?\n",
    " Ans- .py\n",
    "5. Is python code compiled or interpreted?\n",
    " Ans- first compiled and then interpreted.\n",
    "6. Name a few blocks of code use to define in python language?\n",
    " Ans- An opening curly bracket indicates the start of a block and a closing bracket indicates the end of the block. And all the code between the two is part of the block.\n",
    "7. state a character used to give single line comments in python?\n",
    " Ans- Use this (#) character for single line comments.\n",
    "8. mention function which can help us to find the version of python that we are currently working on?\n",
    " Ans- The function sys.version can help us to find the version of python that we are currently working on.\n",
    "9. python support the creation of anonymous function runtime, using a construct called?\n",
    " Ans- Lambda.\n",
    "10. what does pip stand for python?\n",
    " Ans-Python pip is the package manager for Python packages. We can use pip to install packages that do not come with Python. The basic syntax of pip commands in command prompt is: pip 'arguments'\n",
    " 11. mention a few  built in  functions in python?\n",
    "  Ans- input(), int(), len(), list(), min(), max()... etc.\n",
    "12. what is the maximum possible length of an identifier in python?\n",
    " Ans-Python is a case-sensitive language that collects waste. When writing code using an identifier in Python, you can only use a maximum of 79 characters.\n",
    "13. what are the benefits of using python?\n",
    " Ans-Easy to read, learn and code. Python is a high-level language and its syntax is very simple. It does not need any semicolons or braces and looks ...\n",
    " 14. how is memory managed in python? \n",
    "  Ans- As we know, Python uses the dynamic memory allocation which is managed by the Heap data structure. Memory Heap holds the objects and other data structures that will be used in the program. Python memory manager manages the allocation or de-allocation of the heap memory space through the API functions.\n",
    "15. how to install python on windows and set path variables?\n",
    " Ans- Direct go to website python.com.\n",
    "16. is indentation required in python?\n",
    " Ans- Indentation is a very important concept of Python because without proper indenting the Python code, you will end up seeing IndentationError and the code will not get compiled."
   ]
  },
  {
   "cell_type": "code",
   "execution_count": null,
   "id": "8d4e5aad-e178-4afd-8e14-9af3c9b1cbef",
   "metadata": {},
   "outputs": [],
   "source": []
  }
 ],
 "metadata": {
  "kernelspec": {
   "display_name": "Python 3 (ipykernel)",
   "language": "python",
   "name": "python3"
  },
  "language_info": {
   "codemirror_mode": {
    "name": "ipython",
    "version": 3
   },
   "file_extension": ".py",
   "mimetype": "text/x-python",
   "name": "python",
   "nbconvert_exporter": "python",
   "pygments_lexer": "ipython3",
   "version": "3.10.8"
  }
 },
 "nbformat": 4,
 "nbformat_minor": 5
}
